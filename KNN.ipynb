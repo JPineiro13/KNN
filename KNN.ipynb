{
  "nbformat": 4,
  "nbformat_minor": 0,
  "metadata": {
    "colab": {
      "provenance": []
    },
    "kernelspec": {
      "name": "python3",
      "display_name": "Python 3"
    },
    "language_info": {
      "name": "python"
    }
  },
  "cells": [
    {
      "cell_type": "code",
      "execution_count": 33,
      "metadata": {
        "id": "B3nOBMX89mmE"
      },
      "outputs": [],
      "source": [
        "import pandas as pd\n",
        "import numpy as np\n",
        "import json\n",
        "from sklearn.feature_extraction.text import CountVectorizer\n",
        "from sklearn.metrics.pairwise import cosine_similarity\n",
        "from sklearn.feature_extraction.text import TfidfVectorizer\n",
        "from sklearn.neighbors import NearestNeighbors"
      ]
    },
    {
      "cell_type": "code",
      "source": [
        "movies = pd.read_csv(\"https://raw.githubusercontent.com/4GeeksAcademy/k-nearest-neighbors-project-tutorial/main/tmdb_5000_movies.csv\")\n",
        "credits = pd.read_csv(\"https://raw.githubusercontent.com/4GeeksAcademy/k-nearest-neighbors-project-tutorial/main/tmdb_5000_credits.csv\")\n",
        "\n",
        "#Mantengo la terminología de movies y credits para que vayan acorde a los links"
      ],
      "metadata": {
        "id": "4E6uoZw09u1L"
      },
      "execution_count": 2,
      "outputs": []
    },
    {
      "cell_type": "code",
      "source": [
        "print(movies.columns)\n",
        "print(credits.columns)\n",
        "\n",
        "#Me he impreso estas dos porque estoy teniendo un problema a la hora de mergear los\n",
        "#dos df y creo que puede tener que ver con los títulos"
      ],
      "metadata": {
        "colab": {
          "base_uri": "https://localhost:8080/"
        },
        "id": "3QgwjLde-8TP",
        "outputId": "477c2f4f-69a0-4421-8c9b-c6be0639f5f1"
      },
      "execution_count": 3,
      "outputs": [
        {
          "output_type": "stream",
          "name": "stdout",
          "text": [
            "Index(['budget', 'genres', 'homepage', 'id', 'keywords', 'original_language',\n",
            "       'original_title', 'overview', 'popularity', 'production_companies',\n",
            "       'production_countries', 'release_date', 'revenue', 'runtime',\n",
            "       'spoken_languages', 'status', 'tagline', 'title', 'vote_average',\n",
            "       'vote_count'],\n",
            "      dtype='object')\n",
            "Index(['movie_id', 'title', 'cast', 'crew'], dtype='object')\n"
          ]
        }
      ]
    },
    {
      "cell_type": "code",
      "source": [
        "#A ver ahora\n",
        "df_combinado = movies.merge(credits, on='title')\n",
        "print(df_combinado.columns)"
      ],
      "metadata": {
        "colab": {
          "base_uri": "https://localhost:8080/"
        },
        "id": "8hSLVQ_a_hBB",
        "outputId": "44e9c110-7760-41dd-d27e-de2a46894fd1"
      },
      "execution_count": 4,
      "outputs": [
        {
          "output_type": "stream",
          "name": "stdout",
          "text": [
            "Index(['budget', 'genres', 'homepage', 'id', 'keywords', 'original_language',\n",
            "       'original_title', 'overview', 'popularity', 'production_companies',\n",
            "       'production_countries', 'release_date', 'revenue', 'runtime',\n",
            "       'spoken_languages', 'status', 'tagline', 'title', 'vote_average',\n",
            "       'vote_count', 'movie_id', 'cast', 'crew'],\n",
            "      dtype='object')\n"
          ]
        }
      ]
    },
    {
      "cell_type": "code",
      "source": [
        "#Perfecto, ahora ya puedo pasar a quedarme solamente con las columnas que indica el\n",
        "#enunciado: movie_id, title, overview, genres, keywords, cast, crew\n",
        "\n",
        "df_combinado = df_combinado[['movie_id', 'title', 'overview', 'genres', 'keywords', 'cast', 'crew']]"
      ],
      "metadata": {
        "id": "wFkqBr38__s5"
      },
      "execution_count": 5,
      "outputs": []
    },
    {
      "cell_type": "code",
      "source": [
        "#Ahora convierto desde json. Este es uno de los pasos que más tiempo me ha llevado.\n",
        "#Al final he optado por guardar los valores procesados en lista_generos, pasar de json\n",
        "#a diccionario de python, sacar los name del json y combinarlos\n",
        "\n",
        "lista_generos = []\n",
        "for entry in df_combinado[\"genres\"]:\n",
        "    try:\n",
        "        items = json.loads(entry)\n",
        "        names = [item[\"name\"] for item in items]\n",
        "        lista_generos.append(\" \".join(names))\n",
        "    except:\n",
        "        lista_generos.append(\"\")\n",
        "\n",
        "df_combinado[\"genres\"] = lista_generos\n",
        "\n",
        "#Por otro lado proceso la lista_keywords exactamente de la misma manera, convierto a\n",
        "#python, selecciono keywords y combino\n",
        "lista_keywords = []\n",
        "for entry in df_combinado[\"keywords\"]:\n",
        "    try:\n",
        "        items = json.loads(entry)\n",
        "        names = [item[\"name\"] for item in items]\n",
        "        lista_keywords.append(\" \".join(names))\n",
        "    except:\n",
        "        lista_keywords.append(\"\")\n",
        "\n",
        "df_combinado[\"keywords\"] = lista_keywords\n"
      ],
      "metadata": {
        "id": "-8cFxgPJAaG-"
      },
      "execution_count": 6,
      "outputs": []
    },
    {
      "cell_type": "code",
      "source": [
        "#Ahora hago literamente lo mismo con cast. La única diferencia es que para este nos\n",
        "#piden que sean solamente los tres primeros, en lugar de todos, por eso añado [:3]\n",
        "\n",
        "lista_cast = []\n",
        "for entry in df_combinado[\"cast\"]:\n",
        "    try:\n",
        "        items = json.loads(entry)\n",
        "        names = [item[\"name\"] for item in items[:3]] #<--- Aquí está lo de los 3 primeros\n",
        "        lista_cast.append(\" \".join(names))\n",
        "    except:\n",
        "        lista_cast.append(\"\")\n",
        "\n",
        "df_combinado[\"cast\"] = lista_cast"
      ],
      "metadata": {
        "id": "yJpR9fmBDOrX"
      },
      "execution_count": 7,
      "outputs": []
    },
    {
      "cell_type": "code",
      "source": [
        "#Tiene que haber una forma más rápida de hacer esto. Creo que tardaría más en encontrarla\n",
        "#de lo que tardo en cambiar cuatro cosas del código anterior para hacer lo mismo,\n",
        "#esta vez en crew\n",
        "\n",
        "lista_crew = []\n",
        "for entry in df_combinado[\"crew\"]:\n",
        "    try:\n",
        "        items = json.loads(entry)\n",
        "        nombre_director = \"\"\n",
        "        for item in items:\n",
        "            if item[\"job\"].lower() == \"director\":\n",
        "                nombre_director = item[\"name\"]\n",
        "                break\n",
        "        lista_crew.append(nombre_director)\n",
        "    except:\n",
        "        lista_crew.append(\"\")\n",
        "\n",
        "df_combinado[\"crew\"] = lista_crew\n",
        "\n",
        "#Si antes lo digo, antes me toca rectificarlo. He tenido que meter un bucle for para sacar\n",
        "#el nombre del director. El resto del código es igual."
      ],
      "metadata": {
        "id": "hiY7w0aaDVxl"
      },
      "execution_count": 8,
      "outputs": []
    },
    {
      "cell_type": "code",
      "source": [
        "#Overview es distinta porque hay que convertirla en una lista de palabras y limpiarla\n",
        "#Es decir, asegurarme de que es texto, quitarle espacios, pasarlo a minúsculas etc\n",
        "\n",
        "overview_list = []\n",
        "for text in df_combinado[\"overview\"]:\n",
        "    if isinstance(text, str):\n",
        "        overview_list.append(text.split())\n",
        "    else:\n",
        "        overview_list.append([])\n",
        "\n",
        "df_combinado[\"overview\"] = overview_list\n",
        "\n",
        "#Ahora les quito los espacios y las pongo en minúsculas\n",
        "for column in [\"genres\", \"keywords\", \"cast\", \"crew\"]:\n",
        "    df_combinado[column] = df_combinado[column].str.replace(\" \", \"\").str.lower()"
      ],
      "metadata": {
        "id": "oHltfX0iDbd9"
      },
      "execution_count": 9,
      "outputs": []
    },
    {
      "cell_type": "code",
      "source": [
        "#Este paso es el que más me ha chocado y el que voy a recordar para futuras ocasiones\n",
        "#cuando use KNN. Ahora hay que combinarlo todo en UN SOLO TAG\n",
        "\n",
        "#Qué sentido tiene esto?\n",
        "#Hasta ahora estoy acostumbrado a manetener las variables separadas para ver cuánto\n",
        "#valor predictivo tiene cada una, pero en este caso hay que pasarlo todo a un solo tag\n",
        "#El modelo del KNN necesita ver en un solo bloque de texto toda la información y compara\n",
        "#a partir de ahí\n",
        "\n",
        "#Tiene pinta de que este modelo está definiendo cada palabra como si fuera una dimensión\n",
        "#que puede estar presente o no, seguramente lo convierta en una matriz que podría a su vez\n",
        "#representarse como hipercubo donde cada palabra es un vértice, y luego irá recorriendo las\n",
        "#aristas del hipercubo para pasar de un vértice a otro y ver cuántos pasos le lleva. Cuanto\n",
        "#más cerca queden, más parecidas serán según el algoritmo.\n",
        "#Lo que no creo es que el algoritmo utilice la distancia euclidiana para medir la distancia\n",
        "\n",
        "#Efectivamente, he estado investigando y usan la distancia coseno (mide el ángulo entre\n",
        "#los vectores). Al final la idea de base es la misma, contar saltos.\n",
        "\n",
        "#Me gusta mucho este algoritmo y creo que puede resultar en agrupamientos muy útiles.\n",
        "#Lo único que no sé si se está aplicando o no es algún criterio para determinar qué dos\n",
        "#películas se perciben como más cercanas aunque aparezcan a la misma distancia coseno.\n",
        "#No es necesario complicarse tanto para este ejercicio de todos modos\n",
        "\n",
        "#Aquí está la lista tags en la que se incluye todo\n",
        "\n",
        "lista_tags = []\n",
        "for i in range(len(df_combinado)):\n",
        "\n",
        "    tags = (\n",
        "        \" \".join(df_combinado[\"overview\"][i])\n",
        "        + \" \" +\n",
        "        df_combinado[\"genres\"][i]\n",
        "        + \" \" +\n",
        "        df_combinado[\"keywords\"][i]\n",
        "        + \" \" +\n",
        "        df_combinado[\"cast\"][i]\n",
        "        + \" \" +\n",
        "        df_combinado[\"crew\"][i]\n",
        "    )\n",
        "    lista_tags.append(tags)\n",
        "\n",
        "df_combinado[\"tags\"] = lista_tags"
      ],
      "metadata": {
        "id": "rpb5gxJ1DmB1"
      },
      "execution_count": 10,
      "outputs": []
    },
    {
      "cell_type": "code",
      "source": [
        "# Mostrar las primeras filas del DataFrame transformado\n",
        "print(df_combinado[[\"title\", \"tags\"]].head())\n",
        "\n",
        "#Lo que pensaba que sería simplemente mostrar los avances hasta ahora ha resultado ser\n",
        "#mostrar los fallos hasta ahora.\n",
        "#Aparecen todas las palabras juntas. Toca separarlas"
      ],
      "metadata": {
        "colab": {
          "base_uri": "https://localhost:8080/"
        },
        "id": "QuvKLvhlZYhh",
        "outputId": "4ac34e75-1ef2-4be2-9089-6fe02afc9443"
      },
      "execution_count": 11,
      "outputs": [
        {
          "output_type": "stream",
          "name": "stdout",
          "text": [
            "                                      title  \\\n",
            "0                                    Avatar   \n",
            "1  Pirates of the Caribbean: At World's End   \n",
            "2                                   Spectre   \n",
            "3                     The Dark Knight Rises   \n",
            "4                               John Carter   \n",
            "\n",
            "                                                tags  \n",
            "0  In the 22nd century, a paraplegic Marine is di...  \n",
            "1  Captain Barbossa, long believed to be dead, ha...  \n",
            "2  A cryptic message from Bond’s past sends him o...  \n",
            "3  Following the death of District Attorney Harve...  \n",
            "4  John Carter is a war-weary, former military ca...  \n"
          ]
        }
      ]
    },
    {
      "cell_type": "code",
      "source": [
        "# Asegurarnos de que las columnas son cadenas de texto\n",
        "df_combinado[\"genres\"] = df_combinado[\"genres\"].apply(lambda x: \" \".join(x) if isinstance(x, list) else str(x))\n",
        "df_combinado[\"keywords\"] = df_combinado[\"keywords\"].apply(lambda x: \" \".join(x) if isinstance(x, list) else str(x))\n",
        "df_combinado[\"cast\"] = df_combinado[\"cast\"].apply(lambda x: \" \".join(x) if isinstance(x, list) else str(x))\n",
        "df_combinado[\"crew\"] = df_combinado[\"crew\"].apply(lambda x: str(x))\n",
        "\n",
        "# Combinar todas las columnas transformadas en una sola columna llamada 'tags'\n",
        "df_combinado[\"tags\"] = (\n",
        "    df_combinado[\"overview\"].apply(lambda x: \" \".join(x)) + \" \" +\n",
        "    df_combinado[\"genres\"] + \" \" +\n",
        "    df_combinado[\"keywords\"] + \" \" +\n",
        "    df_combinado[\"cast\"] + \" \" +\n",
        "    df_combinado[\"crew\"]\n",
        ")\n",
        "\n",
        "# Reemplazar espacios múltiples por un único espacio\n",
        "df_combinado[\"tags\"] = df_combinado[\"tags\"].str.replace(\"\\s+\", \" \", regex=True)\n",
        "\n",
        "# Opcional: Reemplazar NaN por una cadena vacía en 'tags' si aún queda algún valor NaN\n",
        "df_combinado[\"tags\"].fillna(\"\", inplace=True)\n",
        "\n"
      ],
      "metadata": {
        "colab": {
          "base_uri": "https://localhost:8080/"
        },
        "id": "iVhwyn_sf_o8",
        "outputId": "f859e6c2-58e6-4949-f65c-758d8c95009c"
      },
      "execution_count": 18,
      "outputs": [
        {
          "output_type": "stream",
          "name": "stderr",
          "text": [
            "<ipython-input-18-f3fb6aa656b9>:20: FutureWarning: A value is trying to be set on a copy of a DataFrame or Series through chained assignment using an inplace method.\n",
            "The behavior will change in pandas 3.0. This inplace method will never work because the intermediate object on which we are setting values always behaves as a copy.\n",
            "\n",
            "For example, when doing 'df[col].method(value, inplace=True)', try using 'df.method({col: value}, inplace=True)' or df[col] = df[col].method(value) instead, to perform the operation inplace on the original object.\n",
            "\n",
            "\n",
            "  df_combinado[\"tags\"].fillna(\"\", inplace=True)\n"
          ]
        }
      ]
    },
    {
      "cell_type": "code",
      "source": [
        "# Reemplazar NaN por una cadena vacía en 'tags' sin usar inplace=True\n",
        "df_combinado[\"tags\"] = df_combinado[\"tags\"].fillna(\"\")"
      ],
      "metadata": {
        "id": "Kf1FEDtqgc0D"
      },
      "execution_count": null,
      "outputs": []
    },
    {
      "cell_type": "code",
      "source": [
        "#En algún punto que me es difícil de precisar tengo la impresión de que las palabras\n",
        "#no se están separando entre sí, lo cual no es útil para el modelo, que seguramente\n",
        "#se creerá que todo el texto es una sola palabra muy larga.\n",
        "#He probado con expresiones regulares, he probado a cargar cada dato por separado\n",
        "#y analizar su estructura de forma independiente, he testeado si era cosa de los NaN,\n",
        "#pero no estoy obteniendo ningún avance desde hace horas.\n",
        "#Voy a reiniciar el planteamiento y lo voy a poner todo de la siguiente manera:\n",
        "#Incluyo explicaciones de cada línea, porque al estar todo compactado en una es más\n",
        "#difícil de recordar"
      ],
      "metadata": {
        "id": "zoWKdQqpRYXB"
      },
      "execution_count": null,
      "outputs": []
    },
    {
      "cell_type": "code",
      "source": [
        "def preparar_json(json_str, default_value=None):\n",
        "    try:\n",
        "        return json.loads(json_str)\n",
        "    except (TypeError, json.JSONDecodeError):\n",
        "        return default_value\n",
        "\n",
        "#Empieza el código y esta vez (por fin) en una sola línea cada cosa, a asegurarse\n",
        "#de que no hay ningún tipo de error que tenga que ver con strings vacíos/valores que\n",
        "#no sean string y NaNs\n",
        "\n",
        "df_combinado[\"genres\"] = df_combinado[\"genres\"].apply(lambda x: [item[\"name\"] for item in preparar_json(x, [])] if pd.notna(x) and isinstance(x, str) else [])\n",
        "df_combinado[\"keywords\"] = df_combinado[\"keywords\"].apply(lambda x: [item[\"name\"] for item in preparar_json(x, [])] if pd.notna(x) and isinstance(x, str) else [])\n",
        "\n",
        "#Lo mismo pero además se asegura de que cast no es una list\n",
        "df_combinado[\"cast\"] = df_combinado[\"cast\"].apply(lambda x: [item[\"name\"] for item in preparar_json(x, [])] if pd.notna(x) and isinstance(x, str) else [])[:3]\n",
        "#Saca al nombre del director de la columna crew\n",
        "df_combinado[\"crew\"] = df_combinado[\"crew\"].apply(lambda x: \" \".join([crew_member['name'] for crew_member in preparar_json(x, []) if crew_member.get('job', '').lower() == 'director']))\n",
        "#Se asegura de que overview sea una lista de cadenas\n",
        "df_combinado[\"overview\"] = df_combinado[\"overview\"].apply(lambda x: x if isinstance(x, list) else [str(x)])  # Handle non-list values\n",
        "\n",
        "#Y ahora las combina todas en una nueva llamada tags\n",
        "#A veces es un poco frustrante ver a la 1:56 lo increíblemente parecido que es este código\n",
        "#de ahora, que funciona bien, y el de los primeros intentos que no funciona en absoluto\n",
        "\n",
        "#En esta parte del código la diferencia es más clara y puedo ver que antes no me estaba asegurando de que\n",
        "#isininstance estuviera presente para comprobar el tipo de objeto\n",
        "df_combinado[\"tags\"] = (\n",
        "    df_combinado[\"overview\"].apply(lambda x: \" \".join(x) if isinstance(x, list) else str(x)) + \" \" +\n",
        "    df_combinado[\"genres\"].apply(lambda x: \" \".join(x) if isinstance(x, list) else str(x)) + \" \" +\n",
        "    df_combinado[\"keywords\"].apply(lambda x: \" \".join(x) if isinstance(x, list) else str(x)) + \" \" +\n",
        "    df_combinado[\"cast\"].apply(lambda x: \" \".join(x) if isinstance(x, list) else str(x)) + \" \" +\n",
        "    df_combinado[\"crew\"]\n",
        ")\n",
        "\n",
        "#Limpio los tags por si acaso hubiera grupos de varios espacios de los que aparecen al\n",
        "#concatenar dos partes en las que no había nada con espacios entre medias\n",
        "df_combinado[\"tags\"] = df_combinado[\"tags\"].str.replace(\"\\s+\", \" \", regex=True)\n",
        "df_combinado[\"tags\"] = df_combinado[\"tags\"].fillna(\"\")"
      ],
      "metadata": {
        "id": "hxmsRm8geyjP"
      },
      "execution_count": null,
      "outputs": []
    },
    {
      "cell_type": "code",
      "source": [
        "#Ahora sí, llegamos a las recomendaciones. El Tfidvectorizer básicamente transforma\n",
        "#los tags de antes en vectores numéricos para poder ver qué importancia tienen en\n",
        "#el conjunto de datos\n",
        "vectorizer = TfidfVectorizer()\n",
        "\n",
        "#Esta es la matriz de filas-->películas y columnas-->palabras clave\n",
        "tfidf_matrix = vectorizer.fit_transform(df_combinado[\"tags\"])\n",
        "\n",
        "#Y aquí se crea el modelo de vecinos más cercanos. El algoritmo que está usando es \"brute\"\n",
        "#y la métrica es coseno (como ya había comentado antes). La siguiente línea es simplemente\n",
        "#entrenarlo\n",
        "model = NearestNeighbors(n_neighbors = 6, algorithm = \"brute\", metric = \"cosine\")\n",
        "model.fit(tfidf_matrix)\n",
        "\n",
        "#Y esta es la famosa función en la que se va a generar la recomendación. Es todo muy intuitivo\n",
        "#Primero busca el índice de la película en el df por el título, luego calcula la distancia a\n",
        "#las demás (como ya he explicado, cuanto más cerca más parecidas). El resto es llamar a la\n",
        "#función e imprimir.\n",
        "def get_movie_recommendations(movie_title):\n",
        "    movie_index = df_combinado[df_combinado[\"title\"] == movie_title].index[0]\n",
        "    distances, indices = model.kneighbors(tfidf_matrix[movie_index])\n",
        "    similar_movies = [(df_combinado[\"title\"][i], distances[0][j]) for j, i in enumerate(indices[0])]\n",
        "    return similar_movies[1:]\n",
        "\n",
        "input_movie = \"John Carter\"\n",
        "recommendations = get_movie_recommendations(input_movie)\n",
        "print(\"Film recommendations '{}'\".format(input_movie))\n",
        "for movie, distance in recommendations:\n",
        "    print(\"- Film: {}\".format(movie))\n",
        "\n",
        "#Un último detalle es que en el return similar_movies hay que poner[1:]\n",
        "#Esto no es imprescindible pero lógicamente la película más similar a Avatar es Avatar\n",
        "#Como esto pasa con todas, le pedimos que se salte la primera por similaridad, que es\n",
        "#siempre la misma.\n",
        "\n",
        "#Ahora voy a imprimir algunas recomendaciones para comprobar que efectivamente tiene\n",
        "#sentido lo que está sacando.\n",
        "\n",
        "#Avatar---> Apollo 18, Tears of the Sun, The American, The Inhabited Island, The Matrix\n",
        "#Pirates of the Caribbean: At World's End--> What's Love Got to Do with It, My Blueberry Nights, Disturbia, Men in Black 3, A True Story\n",
        "#John Carter--> Get Carter, The Marine 4: Moving Target, The Hurricane, Raising Cain, Mad Max: Fury Road\n",
        "\n",
        "#Puedo ver el sentido de muchas de las recomendaciones, auque tampoco he visto todas\n",
        "#las películas, se ve claramente que respeta la temática, estilo o presencia de ciertos actores etc\n",
        "#Éxito!"
      ],
      "metadata": {
        "colab": {
          "base_uri": "https://localhost:8080/"
        },
        "id": "bagcg6vpZXwh",
        "outputId": "f9159bf6-ed2e-45e8-db08-c02d223e2445"
      },
      "execution_count": 39,
      "outputs": [
        {
          "output_type": "stream",
          "name": "stdout",
          "text": [
            "Film recommendations 'John Carter'\n",
            "- Film: Get Carter\n",
            "- Film: The Marine 4: Moving Target\n",
            "- Film: The Hurricane\n",
            "- Film: Raising Cain\n",
            "- Film: Mad Max: Fury Road\n"
          ]
        }
      ]
    }
  ]
}